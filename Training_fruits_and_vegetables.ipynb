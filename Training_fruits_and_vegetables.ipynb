{
  "nbformat": 4,
  "nbformat_minor": 0,
  "metadata": {
    "colab": {
      "provenance": []
    },
    "kernelspec": {
      "name": "python3",
      "display_name": "Python 3"
    },
    "language_info": {
      "name": "python"
    }
  },
  "cells": [
    {
      "cell_type": "markdown",
      "source": [
        "# importing  libraries"
      ],
      "metadata": {
        "id": "OHTpaR8poFnU"
      }
    },
    {
      "cell_type": "markdown",
      "source": [],
      "metadata": {
        "id": "lcRgYdFuoCxt"
      }
    },
    {
      "cell_type": "code",
      "execution_count": 2,
      "metadata": {
        "id": "FXCdXXV2Tci4"
      },
      "outputs": [],
      "source": [
        "import numpy as np\n",
        "import tensorflow as tf\n",
        "import matplotlib.pyplot as plt"
      ]
    },
    {
      "cell_type": "markdown",
      "source": [],
      "metadata": {
        "id": "q7jFQiXO254-"
      }
    },
    {
      "cell_type": "markdown",
      "source": [
        "# Data preprocessing"
      ],
      "metadata": {
        "id": "wJWFuXbr3DkH"
      }
    },
    {
      "cell_type": "markdown",
      "source": [
        "# Training image preprocessing"
      ],
      "metadata": {
        "id": "UIgklVO43xQf"
      }
    },
    {
      "cell_type": "code",
      "source": [
        "training_set = tf.keras.utils.image_dataset_from_directory(\n",
        "    '/content/drive/MyDrive/Fruits_Vegetables_recognition/train',\n",
        "    labels=\"inferred\",\n",
        "    label_mode=\"categorical\",\n",
        "    class_names=None,\n",
        "    color_mode=\"rgb\",\n",
        "    batch_size=32,\n",
        "    image_size=(64, 64),\n",
        "    shuffle=True,\n",
        "    seed=None,\n",
        "    validation_split=None,\n",
        "    subset=None,\n",
        "    interpolation=\"bilinear\",\n",
        "    follow_links=False,\n",
        "    crop_to_aspect_ratio=False,\n",
        "\n",
        ")"
      ],
      "metadata": {
        "id": "-anTnTaL3wpX",
        "colab": {
          "base_uri": "https://localhost:8080/"
        },
        "outputId": "e7af35a5-6c73-4e76-ac8a-9da2885ae82f"
      },
      "execution_count": 3,
      "outputs": [
        {
          "output_type": "stream",
          "name": "stdout",
          "text": [
            "Found 3115 files belonging to 36 classes.\n"
          ]
        }
      ]
    },
    {
      "cell_type": "markdown",
      "source": [
        "# validation image preprocesisng"
      ],
      "metadata": {
        "id": "T_EEGl1qDB0c"
      }
    },
    {
      "cell_type": "code",
      "source": [
        "validation_set =tf.keras.utils.image_dataset_from_directory(\n",
        "    '/content/drive/MyDrive/Fruits_Vegetables_recognition/validation',\n",
        "    labels=\"inferred\",\n",
        "    label_mode=\"categorical\",\n",
        "    class_names=None,\n",
        "    color_mode=\"rgb\",\n",
        "    batch_size=32,\n",
        "    image_size=(64, 64),\n",
        "    shuffle=True,\n",
        "    seed=None,\n",
        "    validation_split=None,\n",
        "    subset=None,\n",
        "    interpolation=\"bilinear\",\n",
        "    follow_links=False,\n",
        "    crop_to_aspect_ratio=False,\n",
        "\n",
        ")"
      ],
      "metadata": {
        "colab": {
          "base_uri": "https://localhost:8080/"
        },
        "id": "ZIN7gjC7DTnU",
        "outputId": "8452e831-0bfe-4371-dadf-e8ffe8621d11"
      },
      "execution_count": 4,
      "outputs": [
        {
          "output_type": "stream",
          "name": "stdout",
          "text": [
            "Found 351 files belonging to 36 classes.\n"
          ]
        }
      ]
    },
    {
      "cell_type": "markdown",
      "source": [
        "# Building Model"
      ],
      "metadata": {
        "id": "lTECbrjAHbHy"
      }
    },
    {
      "cell_type": "code",
      "source": [
        "cnn = tf.keras.models.Sequential()"
      ],
      "metadata": {
        "id": "k-1Lojx2HadT"
      },
      "execution_count": 5,
      "outputs": []
    },
    {
      "cell_type": "markdown",
      "source": [
        "# Building Convolution Layer"
      ],
      "metadata": {
        "id": "avR5O7ouJfci"
      }
    },
    {
      "cell_type": "code",
      "source": [
        "cnn.add(tf.keras.layers.Conv2D(filters=32,kernel_size=3,activation='relu',input_shape=[64,64,3]))\n",
        "cnn.add(tf.keras.layers.Conv2D(filters=32,kernel_size=3,activation='relu'))\n",
        "cnn.add(tf.keras.layers.MaxPool2D(pool_size=2,strides=2))"
      ],
      "metadata": {
        "id": "bqkdVZxDJenr"
      },
      "execution_count": 6,
      "outputs": []
    },
    {
      "cell_type": "code",
      "source": [
        "cnn.add(tf.keras.layers.Conv2D(filters=64,kernel_size=3,activation='relu'))\n",
        "cnn.add(tf.keras.layers.Conv2D(filters=64,kernel_size=3,activation='relu'))\n",
        "cnn.add(tf.keras.layers.MaxPool2D(pool_size=2,strides=2))"
      ],
      "metadata": {
        "id": "w9xUiJxPRDQ0"
      },
      "execution_count": 7,
      "outputs": []
    },
    {
      "cell_type": "code",
      "source": [
        "cnn.add(tf.keras.layers.Conv2D(filters=64,kernel_size=3,activation='relu'))\n",
        "cnn.add(tf.keras.layers.MaxPool2D(pool_size=2,strides=2))"
      ],
      "metadata": {
        "id": "COnLcnvlM87r"
      },
      "execution_count": 8,
      "outputs": []
    },
    {
      "cell_type": "code",
      "source": [
        "cnn.add(tf.keras.layers.Flatten())"
      ],
      "metadata": {
        "id": "Kb5lB-0XOTlq"
      },
      "execution_count": 9,
      "outputs": []
    },
    {
      "cell_type": "code",
      "source": [
        "cnn.add(tf.keras.layers.Dense(units=512,activation='relu'))"
      ],
      "metadata": {
        "id": "sawNbnxeO5KI"
      },
      "execution_count": 10,
      "outputs": []
    },
    {
      "cell_type": "code",
      "source": [
        "cnn.add(tf.keras.layers.Dense(units=256,activation='relu'))"
      ],
      "metadata": {
        "id": "YWVNRbxkRsF9"
      },
      "execution_count": 11,
      "outputs": []
    },
    {
      "cell_type": "code",
      "source": [
        "cnn.add(tf.keras.layers.Dropout(0.5)) # to avoid overfitting"
      ],
      "metadata": {
        "id": "dkNJYcwXRzZt"
      },
      "execution_count": 12,
      "outputs": []
    },
    {
      "cell_type": "code",
      "source": [
        "# output layer\n",
        "cnn.add(tf.keras.layers.Dense(units=36,activation='softmax'))"
      ],
      "metadata": {
        "id": "8CVGkPgTPtj8"
      },
      "execution_count": 13,
      "outputs": []
    },
    {
      "cell_type": "markdown",
      "source": [
        "# Compiling and Training Phase"
      ],
      "metadata": {
        "id": "eOEh877YQouI"
      }
    },
    {
      "cell_type": "code",
      "source": [
        "\n",
        "cnn.compile(optimizer='adam', loss='categorical_crossentropy',metrics=['accuracy'])"
      ],
      "metadata": {
        "id": "JIIwVl2nQoP4"
      },
      "execution_count": 14,
      "outputs": []
    },
    {
      "cell_type": "code",
      "source": [
        "cnn.summary()"
      ],
      "metadata": {
        "colab": {
          "base_uri": "https://localhost:8080/"
        },
        "id": "D0yOi2LrPlkS",
        "outputId": "e67dcd2d-5f51-442b-bd06-5b2fccc274f0"
      },
      "execution_count": 15,
      "outputs": [
        {
          "output_type": "stream",
          "name": "stdout",
          "text": [
            "Model: \"sequential\"\n",
            "_________________________________________________________________\n",
            " Layer (type)                Output Shape              Param #   \n",
            "=================================================================\n",
            " conv2d (Conv2D)             (None, 62, 62, 32)        896       \n",
            "                                                                 \n",
            " conv2d_1 (Conv2D)           (None, 60, 60, 32)        9248      \n",
            "                                                                 \n",
            " max_pooling2d (MaxPooling2  (None, 30, 30, 32)        0         \n",
            " D)                                                              \n",
            "                                                                 \n",
            " conv2d_2 (Conv2D)           (None, 28, 28, 64)        18496     \n",
            "                                                                 \n",
            " conv2d_3 (Conv2D)           (None, 26, 26, 64)        36928     \n",
            "                                                                 \n",
            " max_pooling2d_1 (MaxPoolin  (None, 13, 13, 64)        0         \n",
            " g2D)                                                            \n",
            "                                                                 \n",
            " conv2d_4 (Conv2D)           (None, 11, 11, 64)        36928     \n",
            "                                                                 \n",
            " max_pooling2d_2 (MaxPoolin  (None, 5, 5, 64)          0         \n",
            " g2D)                                                            \n",
            "                                                                 \n",
            " flatten (Flatten)           (None, 1600)              0         \n",
            "                                                                 \n",
            " dense (Dense)               (None, 512)               819712    \n",
            "                                                                 \n",
            " dense_1 (Dense)             (None, 256)               131328    \n",
            "                                                                 \n",
            " dropout (Dropout)           (None, 256)               0         \n",
            "                                                                 \n",
            " dense_2 (Dense)             (None, 36)                9252      \n",
            "                                                                 \n",
            "=================================================================\n",
            "Total params: 1062788 (4.05 MB)\n",
            "Trainable params: 1062788 (4.05 MB)\n",
            "Non-trainable params: 0 (0.00 Byte)\n",
            "_________________________________________________________________\n"
          ]
        }
      ]
    },
    {
      "cell_type": "code",
      "source": [
        "training_history= cnn.fit(x=training_set, validation_data=validation_set,epochs=32)"
      ],
      "metadata": {
        "colab": {
          "base_uri": "https://localhost:8080/"
        },
        "id": "Rdk6HuPpSUDo",
        "outputId": "1ee5c9d7-510b-417d-94eb-c7ac9eacc94f"
      },
      "execution_count": 16,
      "outputs": [
        {
          "output_type": "stream",
          "name": "stdout",
          "text": [
            "Epoch 1/32\n",
            "98/98 [==============================] - 547s 5s/step - loss: 4.1224 - accuracy: 0.0594 - val_loss: 3.1997 - val_accuracy: 0.0826\n",
            "Epoch 2/32\n",
            "98/98 [==============================] - 145s 1s/step - loss: 3.0902 - accuracy: 0.1159 - val_loss: 2.6104 - val_accuracy: 0.2450\n",
            "Epoch 3/32\n",
            "98/98 [==============================] - 142s 1s/step - loss: 2.8225 - accuracy: 0.1823 - val_loss: 2.2190 - val_accuracy: 0.3447\n",
            "Epoch 4/32\n",
            "98/98 [==============================] - 134s 1s/step - loss: 2.5613 - accuracy: 0.2379 - val_loss: 1.8690 - val_accuracy: 0.3989\n",
            "Epoch 5/32\n",
            "98/98 [==============================] - 151s 1s/step - loss: 2.4273 - accuracy: 0.2803 - val_loss: 1.6756 - val_accuracy: 0.5043\n",
            "Epoch 6/32\n",
            "98/98 [==============================] - 142s 1s/step - loss: 2.2875 - accuracy: 0.3165 - val_loss: 1.7394 - val_accuracy: 0.5014\n",
            "Epoch 7/32\n",
            "98/98 [==============================] - 145s 1s/step - loss: 2.1307 - accuracy: 0.3573 - val_loss: 1.3161 - val_accuracy: 0.5869\n",
            "Epoch 8/32\n",
            "98/98 [==============================] - 145s 1s/step - loss: 1.9252 - accuracy: 0.4241 - val_loss: 1.2247 - val_accuracy: 0.6097\n",
            "Epoch 9/32\n",
            "98/98 [==============================] - 148s 1s/step - loss: 1.7343 - accuracy: 0.4758 - val_loss: 1.0140 - val_accuracy: 0.7037\n",
            "Epoch 10/32\n",
            "98/98 [==============================] - 146s 1s/step - loss: 1.5899 - accuracy: 0.5194 - val_loss: 0.8218 - val_accuracy: 0.7436\n",
            "Epoch 11/32\n",
            "98/98 [==============================] - 137s 1s/step - loss: 1.4879 - accuracy: 0.5490 - val_loss: 0.7963 - val_accuracy: 0.7806\n",
            "Epoch 12/32\n",
            "98/98 [==============================] - 142s 1s/step - loss: 1.2521 - accuracy: 0.6112 - val_loss: 0.5433 - val_accuracy: 0.8433\n",
            "Epoch 13/32\n",
            "98/98 [==============================] - 145s 1s/step - loss: 1.1169 - accuracy: 0.6533 - val_loss: 0.6453 - val_accuracy: 0.8348\n",
            "Epoch 14/32\n",
            "98/98 [==============================] - 144s 1s/step - loss: 0.9986 - accuracy: 0.6896 - val_loss: 0.5175 - val_accuracy: 0.8860\n",
            "Epoch 15/32\n",
            "98/98 [==============================] - 143s 1s/step - loss: 0.9194 - accuracy: 0.7140 - val_loss: 0.4202 - val_accuracy: 0.8832\n",
            "Epoch 16/32\n",
            "98/98 [==============================] - 147s 1s/step - loss: 0.7616 - accuracy: 0.7634 - val_loss: 0.3724 - val_accuracy: 0.9288\n",
            "Epoch 17/32\n",
            "98/98 [==============================] - 145s 1s/step - loss: 0.7960 - accuracy: 0.7573 - val_loss: 0.3951 - val_accuracy: 0.9003\n",
            "Epoch 18/32\n",
            "98/98 [==============================] - 137s 1s/step - loss: 0.6026 - accuracy: 0.8132 - val_loss: 0.3740 - val_accuracy: 0.9202\n",
            "Epoch 19/32\n",
            "98/98 [==============================] - 152s 1s/step - loss: 0.5800 - accuracy: 0.8189 - val_loss: 0.4700 - val_accuracy: 0.9031\n",
            "Epoch 20/32\n",
            "98/98 [==============================] - 136s 1s/step - loss: 0.5642 - accuracy: 0.8305 - val_loss: 0.5029 - val_accuracy: 0.9174\n",
            "Epoch 21/32\n",
            "98/98 [==============================] - 145s 1s/step - loss: 0.4549 - accuracy: 0.8616 - val_loss: 0.4642 - val_accuracy: 0.9202\n",
            "Epoch 22/32\n",
            "98/98 [==============================] - 145s 1s/step - loss: 0.4281 - accuracy: 0.8668 - val_loss: 0.4338 - val_accuracy: 0.9288\n",
            "Epoch 23/32\n",
            "98/98 [==============================] - 146s 1s/step - loss: 0.3828 - accuracy: 0.8793 - val_loss: 0.5017 - val_accuracy: 0.9288\n",
            "Epoch 24/32\n",
            "98/98 [==============================] - 136s 1s/step - loss: 0.4174 - accuracy: 0.8671 - val_loss: 0.3805 - val_accuracy: 0.9430\n",
            "Epoch 25/32\n",
            "98/98 [==============================] - 135s 1s/step - loss: 0.3307 - accuracy: 0.9005 - val_loss: 0.4546 - val_accuracy: 0.9402\n",
            "Epoch 26/32\n",
            "98/98 [==============================] - 151s 2s/step - loss: 0.2925 - accuracy: 0.9098 - val_loss: 0.3901 - val_accuracy: 0.9402\n",
            "Epoch 27/32\n",
            "98/98 [==============================] - 147s 1s/step - loss: 0.3904 - accuracy: 0.8819 - val_loss: 0.4973 - val_accuracy: 0.9316\n",
            "Epoch 28/32\n",
            "98/98 [==============================] - 145s 1s/step - loss: 0.3051 - accuracy: 0.9085 - val_loss: 0.3995 - val_accuracy: 0.9544\n",
            "Epoch 29/32\n",
            "98/98 [==============================] - 145s 1s/step - loss: 0.2198 - accuracy: 0.9294 - val_loss: 0.4222 - val_accuracy: 0.9459\n",
            "Epoch 30/32\n",
            "98/98 [==============================] - 151s 1s/step - loss: 0.2352 - accuracy: 0.9303 - val_loss: 0.4663 - val_accuracy: 0.9544\n",
            "Epoch 31/32\n",
            "98/98 [==============================] - 146s 1s/step - loss: 0.2253 - accuracy: 0.9361 - val_loss: 0.4390 - val_accuracy: 0.9373\n",
            "Epoch 32/32\n",
            "98/98 [==============================] - 145s 1s/step - loss: 0.2524 - accuracy: 0.9300 - val_loss: 0.4540 - val_accuracy: 0.9402\n"
          ]
        }
      ]
    },
    {
      "cell_type": "markdown",
      "source": [
        "# Saving Model\n"
      ],
      "metadata": {
        "id": "WFBVPi7CloHS"
      }
    },
    {
      "cell_type": "code",
      "source": [
        "cnn.save('trained_model.h5')"
      ],
      "metadata": {
        "id": "MFR_y6_almK7",
        "colab": {
          "base_uri": "https://localhost:8080/"
        },
        "outputId": "1a4f0f09-776b-4ebd-ed8d-7e90221f64d1"
      },
      "execution_count": 17,
      "outputs": [
        {
          "output_type": "stream",
          "name": "stderr",
          "text": [
            "/usr/local/lib/python3.10/dist-packages/keras/src/engine/training.py:3079: UserWarning: You are saving your model as an HDF5 file via `model.save()`. This file format is considered legacy. We recommend using instead the native Keras format, e.g. `model.save('my_model.keras')`.\n",
            "  saving_api.save_model(\n"
          ]
        }
      ]
    },
    {
      "cell_type": "code",
      "source": [
        "training_history.history # return dictionary of history"
      ],
      "metadata": {
        "colab": {
          "base_uri": "https://localhost:8080/"
        },
        "id": "BuXad2zSoOgJ",
        "outputId": "1a08841c-f86a-4c7d-aeeb-2424f1977212"
      },
      "execution_count": 18,
      "outputs": [
        {
          "output_type": "execute_result",
          "data": {
            "text/plain": [
              "{'loss': [4.122364521026611,\n",
              "  3.090242624282837,\n",
              "  2.822514772415161,\n",
              "  2.561338424682617,\n",
              "  2.427283525466919,\n",
              "  2.287532329559326,\n",
              "  2.130722999572754,\n",
              "  1.9251885414123535,\n",
              "  1.7343347072601318,\n",
              "  1.5899165868759155,\n",
              "  1.4879169464111328,\n",
              "  1.252130389213562,\n",
              "  1.1168744564056396,\n",
              "  0.9985724687576294,\n",
              "  0.9193788766860962,\n",
              "  0.7615923881530762,\n",
              "  0.7959750890731812,\n",
              "  0.6026002764701843,\n",
              "  0.5799503922462463,\n",
              "  0.564174473285675,\n",
              "  0.45490020513534546,\n",
              "  0.428139865398407,\n",
              "  0.38279953598976135,\n",
              "  0.4174213409423828,\n",
              "  0.3306502401828766,\n",
              "  0.29254502058029175,\n",
              "  0.3904378116130829,\n",
              "  0.3050878942012787,\n",
              "  0.2198261171579361,\n",
              "  0.2351950705051422,\n",
              "  0.22527499496936798,\n",
              "  0.25236472487449646],\n",
              " 'accuracy': [0.059390049427747726,\n",
              "  0.11589085310697556,\n",
              "  0.1823434978723526,\n",
              "  0.23788121342658997,\n",
              "  0.28025680780410767,\n",
              "  0.3165329098701477,\n",
              "  0.3573033809661865,\n",
              "  0.42407703399658203,\n",
              "  0.47576242685317993,\n",
              "  0.519422173500061,\n",
              "  0.5489566326141357,\n",
              "  0.6112359762191772,\n",
              "  0.6532905101776123,\n",
              "  0.6895666122436523,\n",
              "  0.7139647006988525,\n",
              "  0.7634028792381287,\n",
              "  0.7573033571243286,\n",
              "  0.8131621479988098,\n",
              "  0.8189406394958496,\n",
              "  0.8304975628852844,\n",
              "  0.8616372346878052,\n",
              "  0.8667736649513245,\n",
              "  0.8792937397956848,\n",
              "  0.8670946955680847,\n",
              "  0.9004815220832825,\n",
              "  0.9097913503646851,\n",
              "  0.8818619847297668,\n",
              "  0.908507227897644,\n",
              "  0.9293739795684814,\n",
              "  0.9303370714187622,\n",
              "  0.936115562915802,\n",
              "  0.930016040802002],\n",
              " 'val_loss': [3.1997246742248535,\n",
              "  2.610417604446411,\n",
              "  2.2189512252807617,\n",
              "  1.8690105676651,\n",
              "  1.6756365299224854,\n",
              "  1.7394030094146729,\n",
              "  1.316141963005066,\n",
              "  1.224729061126709,\n",
              "  1.0140371322631836,\n",
              "  0.8217991590499878,\n",
              "  0.7962949872016907,\n",
              "  0.5433326363563538,\n",
              "  0.6452977061271667,\n",
              "  0.5175447463989258,\n",
              "  0.42018383741378784,\n",
              "  0.37242916226387024,\n",
              "  0.39510226249694824,\n",
              "  0.3739767372608185,\n",
              "  0.47004473209381104,\n",
              "  0.5028881430625916,\n",
              "  0.46423548460006714,\n",
              "  0.43380099534988403,\n",
              "  0.501730740070343,\n",
              "  0.38051119446754456,\n",
              "  0.45464497804641724,\n",
              "  0.390060156583786,\n",
              "  0.4973284900188446,\n",
              "  0.3995160162448883,\n",
              "  0.422197163105011,\n",
              "  0.4663180410861969,\n",
              "  0.43895405530929565,\n",
              "  0.45396944880485535],\n",
              " 'val_accuracy': [0.08262108266353607,\n",
              "  0.2450142502784729,\n",
              "  0.34472933411598206,\n",
              "  0.3988603949546814,\n",
              "  0.504273533821106,\n",
              "  0.5014244914054871,\n",
              "  0.5868945717811584,\n",
              "  0.6096866130828857,\n",
              "  0.7037037014961243,\n",
              "  0.7435897588729858,\n",
              "  0.7806267738342285,\n",
              "  0.8433048725128174,\n",
              "  0.8347578644752502,\n",
              "  0.8860399127006531,\n",
              "  0.8831908702850342,\n",
              "  0.9287749528884888,\n",
              "  0.9002848863601685,\n",
              "  0.9202279448509216,\n",
              "  0.9031339287757874,\n",
              "  0.9173789024353027,\n",
              "  0.9202279448509216,\n",
              "  0.9287749528884888,\n",
              "  0.9287749528884888,\n",
              "  0.9430199265480042,\n",
              "  0.94017094373703,\n",
              "  0.94017094373703,\n",
              "  0.9316239356994629,\n",
              "  0.9544159770011902,\n",
              "  0.945868968963623,\n",
              "  0.9544159770011902,\n",
              "  0.9373219609260559,\n",
              "  0.94017094373703]}"
            ]
          },
          "metadata": {},
          "execution_count": 18
        }
      ]
    },
    {
      "cell_type": "code",
      "source": [
        "from google.colab import drive\n",
        "drive.mount('/content/drive')"
      ],
      "metadata": {
        "id": "BoH3dfNjJzgN",
        "colab": {
          "base_uri": "https://localhost:8080/"
        },
        "outputId": "0116ed43-06ea-4a2b-9841-e9f19a5aa787"
      },
      "execution_count": 1,
      "outputs": [
        {
          "output_type": "stream",
          "name": "stdout",
          "text": [
            "Drive already mounted at /content/drive; to attempt to forcibly remount, call drive.mount(\"/content/drive\", force_remount=True).\n"
          ]
        }
      ]
    },
    {
      "cell_type": "code",
      "source": [
        "# Recording History in json\n",
        "import json\n",
        "with open('training_hist.json','w') as f:\n",
        "  json.dump(training_history.history,f)"
      ],
      "metadata": {
        "id": "Tr9_FlTEoTUq"
      },
      "execution_count": 19,
      "outputs": []
    },
    {
      "cell_type": "code",
      "source": [
        "print(training_history.history.keys())"
      ],
      "metadata": {
        "colab": {
          "base_uri": "https://localhost:8080/"
        },
        "id": "2VBIjZ3drFYC",
        "outputId": "22e97cd3-b691-426a-c816-99f15df816e0"
      },
      "execution_count": 20,
      "outputs": [
        {
          "output_type": "stream",
          "name": "stdout",
          "text": [
            "dict_keys(['loss', 'accuracy', 'val_loss', 'val_accuracy'])\n"
          ]
        }
      ]
    },
    {
      "cell_type": "markdown",
      "source": [
        "# Calculating Accuracy of Model Achieved on validation set"
      ],
      "metadata": {
        "id": "Jed79kO6r6Ik"
      }
    },
    {
      "cell_type": "code",
      "source": [
        "print('validation set Accuracy:{} %'.format(training_history.history['val_accuracy'][-1]))"
      ],
      "metadata": {
        "colab": {
          "base_uri": "https://localhost:8080/"
        },
        "id": "5qMLev0Jr5gR",
        "outputId": "15a2a69b-1a3d-4baf-a409-d00fc6114f44"
      },
      "execution_count": 21,
      "outputs": [
        {
          "output_type": "stream",
          "name": "stdout",
          "text": [
            "validation set Accuracy:0.94017094373703 %\n"
          ]
        }
      ]
    },
    {
      "cell_type": "markdown",
      "source": [
        "# Accuracy Visualization"
      ],
      "metadata": {
        "id": "YH5XNeYYvThJ"
      }
    },
    {
      "cell_type": "markdown",
      "source": [
        "# Training Visualization"
      ],
      "metadata": {
        "id": "QvBBsVCBvdZn"
      }
    },
    {
      "cell_type": "code",
      "source": [
        "epochs = [i for i in range(1,33)]\n",
        "plt.plot(epochs,training_history.history['accuracy'],color='red')\n",
        "plt.xlabel('No. of Epochs')\n",
        "plt.ylabel('Training Accuracy')\n",
        "plt.title('Visualization of Training Accuracy Result')\n",
        "plt.show()"
      ],
      "metadata": {
        "colab": {
          "base_uri": "https://localhost:8080/",
          "height": 472
        },
        "id": "57AuRHUxvTIA",
        "outputId": "9c08d22d-94f6-4e26-da81-efcc7f14153c"
      },
      "execution_count": 22,
      "outputs": [
        {
          "output_type": "display_data",
          "data": {
            "text/plain": [
              "<Figure size 640x480 with 1 Axes>"
            ],
            "image/png": "[encoded data removed]"
          },
          "metadata": {}
        }
      ]
    },
    {
      "cell_type": "markdown",
      "source": [
        "# Validation Accuracy\n"
      ],
      "metadata": {
        "id": "nPb2Wl0Kyuzv"
      }
    },
    {
      "cell_type": "markdown",
      "source": [
        "# evaluating CNN Model"
      ],
      "metadata": {
        "id": "XU_-OMbxQ1l8"
      }
    },
    {
      "cell_type": "code",
      "source": [
        "\n",
        "\n",
        "\n",
        "\n",
        "\n",
        "plt.plot(epochs,training_history.history['val_accuracy'],color='blue')\n",
        "plt.xlabel('No. of Epochs')\n",
        "plt.ylabel('Validation of Accuracy')\n",
        "plt.title('Visualization of Validation Accuracy Result')\n",
        "plt.show()"
      ],
      "metadata": {
        "colab": {
          "base_uri": "https://localhost:8080/",
          "height": 472
        },
        "id": "s6NilVGkystH",
        "outputId": "81373819-1c72-4959-add2-e6244dd0da55"
      },
      "execution_count": 23,
      "outputs": [
        {
          "output_type": "display_data",
          "data": {
            "text/plain": [
              "<Figure size 640x480 with 1 Axes>"
            ],
            "image/png": "[encoded data removed]"
          },
          "metadata": {}
        }
      ]
    },
    {
      "cell_type": "code",
      "source": [
        "training_loss,training_accuracy = cnn.evaluate(training_set)"
      ],
      "metadata": {
        "colab": {
          "base_uri": "https://localhost:8080/"
        },
        "id": "yEC9DOGj4f6f",
        "outputId": "8bb7608b-843a-4136-87ca-a52875a80214"
      },
      "execution_count": 25,
      "outputs": [
        {
          "output_type": "stream",
          "name": "stdout",
          "text": [
            "98/98 [==============================] - 104s 1s/step - loss: 0.2569 - accuracy: 0.9368\n"
          ]
        }
      ]
    },
    {
      "cell_type": "code",
      "source": [
        "val_loss,val_accuracy = cnn.evaluate(validation_set)"
      ],
      "metadata": {
        "id": "TmTJa9EStZq6",
        "outputId": "564be185-42c7-4ca9-99de-fda5cefd8c4c",
        "colab": {
          "base_uri": "https://localhost:8080/"
        }
      },
      "execution_count": 26,
      "outputs": [
        {
          "output_type": "stream",
          "name": "stdout",
          "text": [
            "11/11 [==============================] - 24s 401ms/step - loss: 0.4540 - accuracy: 0.9402\n"
          ]
        }
      ]
    },
    {
      "cell_type": "markdown",
      "source": [
        "# Test set Evaluation"
      ],
      "metadata": {
        "id": "-JxZ-8DWtmNC"
      }
    },
    {
      "cell_type": "code",
      "source": [
        "test_set = tf.keras.utils.image_dataset_from_directory(\n",
        "    '/content/drive/MyDrive/Fruits_Vegetables_recognition/test',\n",
        "    labels=\"inferred\",\n",
        "    label_mode=\"categorical\",\n",
        "    class_names=None,\n",
        "    color_mode=\"rgb\",\n",
        "    batch_size=32,\n",
        "    image_size=(64, 64),\n",
        "    shuffle=True,\n",
        "    seed=None,\n",
        "    validation_split=None,\n",
        "    subset=None,\n",
        "    interpolation=\"bilinear\",\n",
        "    follow_links=False,\n",
        "    crop_to_aspect_ratio=False,\n",
        "\n",
        ")"
      ],
      "metadata": {
        "id": "bjQqYODZtrLJ",
        "outputId": "3b9ec222-3584-4b03-de3a-68c0a7cb734d",
        "colab": {
          "base_uri": "https://localhost:8080/"
        }
      },
      "execution_count": 27,
      "outputs": [
        {
          "output_type": "stream",
          "name": "stdout",
          "text": [
            "Found 359 files belonging to 36 classes.\n"
          ]
        }
      ]
    },
    {
      "cell_type": "code",
      "source": [
        "test_loss,test_accuracy = cnn.evaluate(test_set)"
      ],
      "metadata": {
        "id": "Hcq5evLeu6CS",
        "outputId": "957355dd-a26a-401b-ea1b-611efeaf6123",
        "colab": {
          "base_uri": "https://localhost:8080/"
        }
      },
      "execution_count": 28,
      "outputs": [
        {
          "output_type": "stream",
          "name": "stdout",
          "text": [
            "12/12 [==============================] - 45s 737ms/step - loss: 0.4441 - accuracy: 0.9415\n"
          ]
        }
      ]
    }
  ]
}